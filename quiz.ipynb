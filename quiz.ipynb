{
 "cells": [
  {
   "cell_type": "markdown",
   "id": "daebf8a2",
   "metadata": {},
   "source": [
    "# Abstraction mini-lesson"
   ]
  },
  {
   "cell_type": "code",
   "execution_count": 24,
   "id": "8f9549f4",
   "metadata": {},
   "outputs": [],
   "source": [
    "from turtle import color, begin_fill, forward, right, end_fill, fillcolor, circle,penup, left, pendown, reset, speed, showturtle, hideturtle, goto\n",
    "from helpers import setup"
   ]
  },
  {
   "cell_type": "markdown",
   "id": "54e21917",
   "metadata": {},
   "source": [
    "## Better abstraction"
   ]
  },
  {
   "cell_type": "code",
   "execution_count": 40,
   "id": "fa223a5f",
   "metadata": {},
   "outputs": [],
   "source": [
    "def cone():\n",
    "    \"Draws an ice cream cone\"\n",
    "    # YOUR CODE HERE\n",
    "    color(\"orange\")\n",
    "    begin_fill()\n",
    "    forward(50)\n",
    "    right(110)\n",
    "    forward(146)\n",
    "    right(140)\n",
    "    forward(146)\n",
    "    right(110)\n",
    "    forward(50)\n",
    "    end_fill()\n",
    "\n",
    "\n",
    "def icecream_scoop(flavor):\n",
    "    '''Draws a scoop of ice cream.\n",
    "    Takes an ice cream flavor \n",
    "    and number of scoops as paramters'''\n",
    "    # YOUR CODE HERE \n",
    "    color(\"white\")\n",
    "    fillcolor(flavor)\n",
    "    begin_fill()\n",
    "    circle(65)\n",
    "    end_fill()\n",
    "    \n",
    "def draw_scoops(num_scoops):\n",
    "    '''Draws multiple scoops of icecream.\n",
    "    Takes the number of scoops as a\n",
    "    parameter.\n",
    "    '''\n",
    "    for i in range(num_scoops):\n",
    "        icecream_scoop(\"pink\")\n",
    "        penup()\n",
    "        left(90)\n",
    "        forward(55)\n",
    "        right(90)\n",
    "        pendown()\n",
    "    penup()\n",
    "    right(90)\n",
    "    forward(55*num_scoops)\n",
    "    left(90)\n",
    "    pendown()\n",
    "\n",
    "    \n",
    "#YOUR draw_icecream() FUNCTION GOES HERE\n",
    "def draw_icecream(num_scoops):\n",
    "    '''Draws an ice cream cone\n",
    "    with the ice cream scoops on top.\n",
    "    Use the function setup() to set the placement of the drawing.'''\n",
    "    cone()\n",
    "    right(90)\n",
    "    forward(20)\n",
    "    left(90)\n",
    "    draw_scoops(num_scoops)\n",
    "\n",
    "reset()\n",
    "speed(0)\n",
    "showturtle() #Shows the turtle as it draws\n",
    "\n",
    "#CALL DRAW ICE CREAM FUNCTION HERE\n",
    "draw_icecream(2)\n",
    "\n",
    "setup(200, 200)\n",
    "\n",
    "draw_icecream(3)\n",
    "\n",
    "setup(-200, -200)\n",
    "\n",
    "draw_icecream(6)\n",
    "\n",
    "hideturtle() #Hides the turtle pen"
   ]
  },
  {
   "cell_type": "markdown",
   "id": "69471dec",
   "metadata": {},
   "source": [
    "## Less good abstraction"
   ]
  },
  {
   "cell_type": "code",
   "execution_count": 37,
   "id": "fd8d61d2",
   "metadata": {},
   "outputs": [],
   "source": [
    "def cone():\n",
    "    \"Draws an ice cream cone\"\n",
    "    # YOUR CODE HERE\n",
    "    color(\"orange\")\n",
    "    begin_fill()\n",
    "    forward(50)\n",
    "    right(110)\n",
    "    forward(146)\n",
    "    right(140)\n",
    "    forward(146)\n",
    "    right(110)\n",
    "    forward(50)\n",
    "    end_fill()\n",
    "\n",
    "\n",
    "def icecream_scoop(flavor):\n",
    "    '''Draws a scoop of ice cream.\n",
    "    Takes an ice cream flavor \n",
    "    and number of scoops as paramters'''\n",
    "    # YOUR CODE HERE \n",
    "    color(\"white\")\n",
    "    fillcolor(flavor)\n",
    "    begin_fill()\n",
    "    circle(65)\n",
    "    end_fill()\n",
    "    \n",
    "def draw_scoops(num_scoops):\n",
    "    '''Draws multiple scoops of icecream.\n",
    "    Takes the number of scoops as a\n",
    "    parameter.\n",
    "    '''\n",
    "    for i in range(num_scoops):\n",
    "        icecream_scoop(\"pink\")\n",
    "        penup()\n",
    "        left(90)\n",
    "        forward(55)\n",
    "        right(90)\n",
    "        pendown()\n",
    "    penup()\n",
    "    right(90)\n",
    "    forward(55*num_scoops)\n",
    "    left(90)\n",
    "    pendown()\n",
    "\n",
    "    \n",
    "#YOUR draw_icecream() FUNCTION GOES HERE\n",
    "def draw_icecream(num_scoops):\n",
    "    '''Draws an ice cream cone\n",
    "    with the ice cream scoops on top.\n",
    "    Use the function setup() to set the placement of the drawing.'''\n",
    "    cone()\n",
    "    goto(0,-20)\n",
    "    draw_scoops(num_scoops)\n",
    "\n",
    "reset()\n",
    "speed(0)\n",
    "showturtle() #Shows the turtle as it draws\n",
    "\n",
    "#CALL DRAW ICE CREAM FUNCTION HERE\n",
    "draw_icecream(4)\n",
    "\n",
    "setup(200, 200)\n",
    "\n",
    "draw_icecream(3)\n",
    "\n",
    "setup(-200, -200)\n",
    "\n",
    "draw_icecream(5)\n",
    "\n",
    "hideturtle() #Hides the turtle pen"
   ]
  },
  {
   "cell_type": "markdown",
   "id": "91d28702",
   "metadata": {},
   "source": [
    "# Animation Lab Quiz"
   ]
  },
  {
   "cell_type": "markdown",
   "id": "f6daa024",
   "metadata": {},
   "source": [
    "## Code Trace\n",
    "\n"
   ]
  },
  {
   "cell_type": "code",
   "execution_count": 3,
   "id": "9ddbb251",
   "metadata": {},
   "outputs": [],
   "source": [
    "from turtle import forward, right, left, setheading, reset\n",
    "from helpers import no_delay, restore_state_when_finished\n",
    "\n",
    "reset()\n",
    "\n",
    "def curvy():\n",
    "    for i in range(int(360/2)):\n",
    "        forward(1)\n",
    "        right(1)\n",
    "    for i in range(int(360/2)):\n",
    "        forward(1)\n",
    "        left(1)\n",
    "        \n",
    "def shape(num_curves):\n",
    "    for i in range(int(360/num_curves)):\n",
    "        with restore_state_when_finished():\n",
    "            setheading(i*360/num_curves)\n",
    "            curvy()\n",
    "        \n",
    "with no_delay():        \n",
    "    shape(10)"
   ]
  },
  {
   "cell_type": "markdown",
   "id": "a5c5bee0",
   "metadata": {},
   "source": [
    "## Error fixing\n",
    "function not imported"
   ]
  },
  {
   "cell_type": "code",
   "execution_count": 36,
   "id": "66e801e7",
   "metadata": {},
   "outputs": [],
   "source": [
    "from turtle import forward, backward, right, reset\n",
    "from helpers import no_delay\n",
    "\n",
    "def spikey_ball():\n",
    "    for i in range(int(360/4)):\n",
    "        forward(100)\n",
    "        backward(100)\n",
    "        right(4)\n",
    "\n",
    "reset()\n",
    "with no_delay():\n",
    "    spikey_ball()\n",
    "        "
   ]
  },
  {
   "cell_type": "markdown",
   "id": "c3a66de9",
   "metadata": {},
   "source": [
    "## Debugging\n"
   ]
  },
  {
   "cell_type": "code",
   "execution_count": 73,
   "id": "102aa5ab",
   "metadata": {},
   "outputs": [],
   "source": [
    "from turtle import Screen, clear, setheading\n",
    "from parts import draw_triangle\n",
    "from helpers import update_position, setup, no_delay\n",
    "import time"
   ]
  },
  {
   "cell_type": "code",
   "execution_count": 74,
   "id": "960d62f4",
   "metadata": {},
   "outputs": [],
   "source": [
    "def draw_animation(num_frames, num_curves, sleeptime, screen):\n",
    "    for i in range(num_frames):\n",
    "        right(1)\n",
    "        spikey_ball()\n",
    "        time.sleep(sleeptime)\n",
    "        screen.update()\n",
    "        clear()"
   ]
  },
  {
   "cell_type": "code",
   "execution_count": 75,
   "id": "c7b0b69f",
   "metadata": {},
   "outputs": [],
   "source": [
    "NUMCURVES = 10 #the side length of the triangle\n",
    "SLEEPTIME = 0.05 #the time in between each frame\n",
    "NUMFRAMES = 100 #the number of frames in the animation\n",
    "NUMREPEATS = 4 #the number of times the animation repeats\n",
    "SCREENWIDTH = 800 #the height and width of the screen\n",
    "SCREENHEIGHT = 800 #the height and width of the screen\n",
    "START_X = 0 # the starting xcoordinate of the drawing\n",
    "START_Y = 0 # the starting ycoordinate of the drawing\n",
    "\n",
    "reset()\n",
    "screen = Screen()\n",
    "screen.setup(SCREENWIDTH, SCREENHEIGHT)\n",
    "for i in range(NUMREPEATS):\n",
    "        with no_delay():\n",
    "            setup(START_X, START_Y)\n",
    "            draw_animation(NUMFRAMES, NUMCURVES, SLEEPTIME, screen)"
   ]
  },
  {
   "cell_type": "code",
   "execution_count": 49,
   "id": "4377c5d4",
   "metadata": {},
   "outputs": [],
   "source": [
    "spikey_ball()"
   ]
  },
  {
   "cell_type": "code",
   "execution_count": null,
   "id": "d6d6bd8f",
   "metadata": {},
   "outputs": [],
   "source": []
  }
 ],
 "metadata": {
  "kernelspec": {
   "display_name": "Python 3 (ipykernel)",
   "language": "python",
   "name": "python3"
  },
  "language_info": {
   "codemirror_mode": {
    "name": "ipython",
    "version": 3
   },
   "file_extension": ".py",
   "mimetype": "text/x-python",
   "name": "python",
   "nbconvert_exporter": "python",
   "pygments_lexer": "ipython3",
   "version": "3.9.1"
  },
  "toc": {
   "base_numbering": 1,
   "nav_menu": {},
   "number_sections": true,
   "sideBar": true,
   "skip_h1_title": false,
   "title_cell": "Table of Contents",
   "title_sidebar": "Contents",
   "toc_cell": false,
   "toc_position": {},
   "toc_section_display": true,
   "toc_window_display": false
  },
  "varInspector": {
   "cols": {
    "lenName": 16,
    "lenType": 16,
    "lenVar": 40
   },
   "kernels_config": {
    "python": {
     "delete_cmd_postfix": "",
     "delete_cmd_prefix": "del ",
     "library": "var_list.py",
     "varRefreshCmd": "print(var_dic_list())"
    },
    "r": {
     "delete_cmd_postfix": ") ",
     "delete_cmd_prefix": "rm(",
     "library": "var_list.r",
     "varRefreshCmd": "cat(var_dic_list()) "
    }
   },
   "types_to_exclude": [
    "module",
    "function",
    "builtin_function_or_method",
    "instance",
    "_Feature"
   ],
   "window_display": false
  }
 },
 "nbformat": 4,
 "nbformat_minor": 5
}
