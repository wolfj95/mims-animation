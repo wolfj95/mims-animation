{
 "cells": [
  {
   "cell_type": "markdown",
   "id": "bc8fff8b",
   "metadata": {},
   "source": [
    "# Animation Lab"
   ]
  },
  {
   "cell_type": "code",
   "execution_count": 1,
   "id": "11dfb731",
   "metadata": {},
   "outputs": [],
   "source": [
    "%load_ext autoreload\n",
    "%autoreload 2"
   ]
  },
  {
   "cell_type": "code",
   "execution_count": 2,
   "id": "c8ed07fd",
   "metadata": {},
   "outputs": [],
   "source": [
    "from turtle import  Screen, clear\n",
    "from helpers import update_position, setup, no_delay\n",
    "import time"
   ]
  },
  {
   "cell_type": "markdown",
   "id": "22478ee5",
   "metadata": {},
   "source": [
    "## Modules and Context Managers\n",
    "In the last lab, you learned that code could exist across many different files to help keep big software project organized. The ability to use code across files helps make code more reusable and also makes it easier to understand and debug. It's much easier to read and understand ten files containing 100 lines of code each than one file containing 1000 lines of code."
   ]
  },
  {
   "cell_type": "markdown",
   "id": "e69f4322",
   "metadata": {},
   "source": [
    "### What is a module?\n",
    "To help formalize this idea, lets talk about some vocabulary:\n",
    "\n",
    "- Jupyter notebooks (files that end in `.ipynb`) provide an integrated environment to write and run Python code. However, you should usually keep these as high level as possible because their goal is to display and explain a project.\n",
    "- Strict Python code lives in files that end in `.py`. They’re just plain text files that you can edit using a code editor (or Microsoft Word if you really want. Don’t though. You’ll regret it.)  These files are good for storing away the lower level parts of a project like functions that perform specific tasks.\n",
    "- Like all files, Python files live in directories somewhere on your file system. For example, all your labs live in `/Users/you/Desktop/mims_bootcamp`.\n",
    "- Python thinks of each `.py` file as a *module*. Each module is its own little bubble world.\n",
    "- Python thinks of each directory containing `.py` files as a *package*. A *package* is a bundle of modules. So your `mims-types` directory is also a package."
   ]
  },
  {
   "cell_type": "markdown",
   "id": "56cbccac",
   "metadata": {},
   "source": [
    "### Importing modules\n",
    "When you want to use something from another module, you need to *import* it. We have actually already been doing this – many of our Jupyter notebooks have included `from turtle import *`. But what is this turtle? Where did it come from? Let’s find out:"
   ]
  },
  {
   "cell_type": "code",
   "execution_count": 3,
   "id": "e1dae1fe",
   "metadata": {},
   "outputs": [
    {
     "data": {
      "text/plain": [
       "<module 'turtle' from '/usr/local/Cellar/python@3.9/3.9.1_3/Frameworks/Python.framework/Versions/3.9/lib/python3.9/turtle.py'>"
      ]
     },
     "execution_count": 3,
     "metadata": {},
     "output_type": "execute_result"
    }
   ],
   "source": [
    "import turtle\n",
    "turtle"
   ]
  },
  {
   "cell_type": "markdown",
   "id": "6e88cb2b",
   "metadata": {},
   "source": [
    "See? It’s a module! And it lives in a file called `turtle.py` that some people wrote for you."
   ]
  },
  {
   "cell_type": "code",
   "execution_count": 4,
   "id": "da7ac5b8",
   "metadata": {},
   "outputs": [
    {
     "data": {
      "text/plain": [
       "<function turtle.forward(distance)>"
      ]
     },
     "execution_count": 4,
     "metadata": {},
     "output_type": "execute_result"
    }
   ],
   "source": [
    "turtle.forward"
   ]
  },
  {
   "cell_type": "markdown",
   "id": "168e6230",
   "metadata": {},
   "source": [
    "There’s our old friend `forward`, the function which makes the turtle walk forward. You can use it just like normal:"
   ]
  },
  {
   "cell_type": "code",
   "execution_count": 5,
   "id": "28f0dca2",
   "metadata": {},
   "outputs": [
    {
     "name": "stderr",
     "output_type": "stream",
     "text": [
      "2021-08-12 12:41:30.316 Python[98440:13333982] ApplePersistenceIgnoreState: Existing state will not be touched. New state will be written to /var/folders/gw/zzdm1k1s4czgdmpvkm7g_0q80000gn/T/org.python.python.savedState\n"
     ]
    }
   ],
   "source": [
    "turtle.forward(100)"
   ]
  },
  {
   "cell_type": "markdown",
   "id": "bc6b0604",
   "metadata": {},
   "source": [
    "There are actually three different ways to get forward. You can import turtle:"
   ]
  },
  {
   "cell_type": "code",
   "execution_count": 6,
   "id": "ea17a49f",
   "metadata": {},
   "outputs": [],
   "source": [
    "import turtle\n",
    "turtle.forward(100)\n",
    "\n",
    "# OR\n",
    "\n",
    "from turtle import forward\n",
    "forward(100)\n",
    "\n",
    "# OR\n",
    "\n",
    "from turtle import *\n",
    "forward(100)"
   ]
  },
  {
   "cell_type": "markdown",
   "id": "5983e527",
   "metadata": {},
   "source": [
    "This third way means “go into the turtle module and import everything!” It’s quick and easy, but it’s kind of sloppy and it’s not always a very good idea. Imagine this scenario:\n",
    "\n",
    "```\n",
    "from bodily_functions import eat\n",
    "from refrigerator import *\n",
    "from trash_can import *\n",
    "\n",
    "eat(chicken_sandwich)\n",
    "```\n",
    "\n",
    "You can see that the eat function came from `bodily_functions`, but where did that `chicken_sandwich` come from? The `refrigerator`? Or the `trash_can`? By importing just what we need from other modules, we can make it clear where everything came from, and we can make sure we don’t import stuff we don’t want. (What else did we import from the `trash_can`? Do we want that in our program?)"
   ]
  },
  {
   "cell_type": "markdown",
   "id": "01746675",
   "metadata": {},
   "source": [
    "### Context managers\n",
    "The modules contained in this directory (the one with this Jupyter notebook inside) contain some interesting things we'll use to help with our animation projects."
   ]
  },
  {
   "cell_type": "markdown",
   "id": "715ec0a9",
   "metadata": {},
   "source": [
    "#### `helpers.py` functions\n",
    "\n",
    "💻 First, open up the `helpers.py` file in a new Jupyter window.\n",
    "\n",
    "At the top, you'll notice a function we introduced in the functions lab: `setup()`. As you, know this function setups the Turtle up at a new location facing to the right so it's ready to draw.\n",
    "\n",
    "There are two other functions here that are similar to `setup()`, but work slightly differnetly.\n",
    "\n",
    "💻 Look over the `fly()` and `update_position()` functions and then use the space below to test out what they do.\n",
    "\n",
    "> **👾💬 FYI**\n",
    "> \n",
    "> Be sure to import the `fly()` and `update_position()` functions in order to use them."
   ]
  },
  {
   "cell_type": "code",
   "execution_count": 9,
   "id": "3ec4f155",
   "metadata": {},
   "outputs": [],
   "source": [
    "# Test functions from helpers.py here\n",
    "\n",
    "from turtle import circle, reset\n",
    "from helpers import fly, update_position\n",
    "\n",
    "reset()\n",
    "\n",
    "fly(45, 45)\n",
    "circle(5)\n",
    "vector = (50, 30)\n",
    "update_position(vector)\n",
    "circle(5)"
   ]
  },
  {
   "cell_type": "markdown",
   "id": "dd7afe65",
   "metadata": {},
   "source": [
    "#### `helpers.py` context managers\n",
    "\n",
    "Below the functions in `helpers.py` are some new Python structures that begin with the word `class`. These are called *context managers*. A *context manager* is a set of functions, one that automatically gets called before a code block runs and one that automatically gets called after a code block runs. Context managers are helpful when you need to do a lot of setting up and cleaning up in your programs. For now, don't worry about how they work. Instead, let's just see how to use them.\n",
    "\n",
    "💻 Run the cell below to see how the `restore_state_when_finished` context manager works. Try editing the code to put the Turtle in different states (different location, facing different direction) to see the power of this context manager."
   ]
  },
  {
   "cell_type": "code",
   "execution_count": 10,
   "id": "3ef89321",
   "metadata": {},
   "outputs": [],
   "source": [
    "from helpers import fly, restore_state_when_finished\n",
    "from turtle import forward, left, right, reset"
   ]
  },
  {
   "cell_type": "code",
   "execution_count": 11,
   "id": "7a694bb8",
   "metadata": {},
   "outputs": [],
   "source": [
    "reset()\n",
    "\n",
    "fly(-200, 200)\n",
    "\n",
    "with restore_state_when_finished():\n",
    "    for i in range(10):\n",
    "        forward(10)\n",
    "        left(90)\n",
    "        forward(10)\n",
    "        right(90)\n",
    "        \n",
    "with restore_state_when_finished():\n",
    "    for i in range(10):\n",
    "        forward(10)\n",
    "        right(90)\n",
    "        forward(10)\n",
    "        left(90)"
   ]
  },
  {
   "cell_type": "markdown",
   "id": "25f2abe5",
   "metadata": {},
   "source": [
    "Context managers are also helpful for applying certain execution conditions to a particular block of code.\n",
    "\n",
    "💻 Try out the cells below to see this in the `no_delay` context manager. Try removing the context manager to see how valuable it is."
   ]
  },
  {
   "cell_type": "code",
   "execution_count": 12,
   "id": "037c1d13",
   "metadata": {},
   "outputs": [],
   "source": [
    "from helpers import no_delay\n",
    "from turtle import forward, backward, right, reset"
   ]
  },
  {
   "cell_type": "code",
   "execution_count": 13,
   "id": "371724e3",
   "metadata": {},
   "outputs": [],
   "source": [
    "reset()\n",
    "\n",
    "with no_delay():\n",
    "    for i in range(int(360/2)):\n",
    "        forward(100)\n",
    "        backward(100)\n",
    "        right(2)"
   ]
  },
  {
   "cell_type": "markdown",
   "id": "bc4d2f3b",
   "metadata": {},
   "source": [
    "## Animations\n",
    "Now that you've got some functions to help you make animations, lets talk about how animation works.\n",
    "\n",
    "You can think about animations as a series of still images that you flip through really quickly. Each image in an animation is called a frame. If the changes between the frames are subtle enough, your eye will percieve the image to be moving.\n",
    "\n",
    "Now that you can make drawings with Turtle functions, you can easily create images. Further, now that we've learned about functions, you know how to write code that will allow you to make  many copies of the same image with a variety of small differences based on the parameters of a function.\n",
    "\n",
    "Let's look at an example of how you can use a function many times to make frames for a Turtle animation. The code below repurposes the `ngon()` and `allgon()` functions from the quiz a few days ago.\n",
    "\n",
    "💻 Run the code below and then try to figure out how the animation is working by reading the comments in the code:\n",
    "\n",
    "> **👾💬 FYI**\n",
    ">\n",
    "> Make sure you can see your Turtle window when you run the code or you may miss the animation!"
   ]
  },
  {
   "cell_type": "code",
   "execution_count": 14,
   "id": "fbee27ff",
   "metadata": {},
   "outputs": [],
   "source": [
    "from turtle import Screen, clear, reset, forward, right\n",
    "# The ngon function used to draw each frame of this drawing\n",
    "# is imported from the parts.py module. Open that file to see\n",
    "# the functions that draw the static parts of an animation.\n",
    "from parts import ngon\n",
    "from helpers import setup, no_delay\n",
    "import time"
   ]
  },
  {
   "cell_type": "code",
   "execution_count": 15,
   "id": "00e769e6",
   "metadata": {},
   "outputs": [],
   "source": [
    "def animate_allgon(max_sides, size, screen):\n",
    "    for i in range(3, max_sides+1):\n",
    "        ngon(i, size)\n",
    "        # Since we are running our Turtle with no_delay, we have\n",
    "        # to explicitly tell the Turtle when to show updates to\n",
    "        # the screen. You can think about the drawing that happens\n",
    "        # between each call of this function as one frame of the\n",
    "        # animation.\n",
    "        screen.update()\n",
    "        # After we show a frame, we have to wait a small amount of\n",
    "        # time to let the eye percieve that frame before we show\n",
    "        # the next one. The following line causes our code\n",
    "        # to wait 5/100th of a second (5 ms).\n",
    "        time.sleep(0.05)    "
   ]
  },
  {
   "cell_type": "code",
   "execution_count": 16,
   "id": "f16cc20b",
   "metadata": {},
   "outputs": [],
   "source": [
    "reset()\n",
    "\n",
    "# For an animation, we need to explicitly setup the Turtle \n",
    "# screen that we will use for the animation.\n",
    "screen = Screen()\n",
    "screen.setup(800, 800) # 800, 800 sets the screen's height/width\n",
    "\n",
    "# The no_delay context manager allows us to draw each frame\n",
    "# immediately without waiting for the Turtle to draw the image\n",
    "with no_delay():\n",
    "    setup(0, 0)\n",
    "    # Here's where we actually call our animation function\n",
    "    animate_allgon(20, 50, screen)\n"
   ]
  },
  {
   "cell_type": "markdown",
   "id": "65f3ff0b",
   "metadata": {},
   "source": [
    "### Types of animations\n",
    "\n",
    "There are a variety of ways to make animations, but based on what we've done with the Turtle, these four are probably best for this project:\n",
    "\n",
    "![Translation animation](images/translate.gif)\n",
    "\n",
    "![Scaling animation](images/scale.gif)\n",
    "\n",
    "![Rotation animation](images/rotate.gif)\n",
    "\n",
    "![Frame-based animation](images/frame.gif)"
   ]
  },
  {
   "cell_type": "markdown",
   "id": "398d725a",
   "metadata": {},
   "source": [
    "### Mystery Animations\n",
    "To help learn about implementing the different types of animation shown above, we've got 4 mystery animations below. Answer the questions the follow each one to figure out how they are working.\n",
    "\n",
    "> **👾💬 FYI**\n",
    ">\n",
    "> Each of the following animations has a section with a lot of variables defined in `ALLCAPS`. These are just regular Python variables, but you can think about them as the \"settings\" of the animation. Try playing around with their values if you want to see how they impact the animation."
   ]
  },
  {
   "cell_type": "markdown",
   "id": "c9681dbb",
   "metadata": {},
   "source": [
    "####  Animation 0\n",
    "\n",
    "💻 Run the cells below display Animation 0 and then discuss the questions below in your group."
   ]
  },
  {
   "cell_type": "code",
   "execution_count": 20,
   "id": "c9d75246",
   "metadata": {},
   "outputs": [],
   "source": [
    "from turtle import Screen, clear\n",
    "from parts import draw_triangle\n",
    "from helpers import update_position, setup, no_delay\n",
    "import time"
   ]
  },
  {
   "cell_type": "code",
   "execution_count": 23,
   "id": "c7f56450",
   "metadata": {},
   "outputs": [],
   "source": [
    "def draw_animation_0(num_frames, sidelen, color, sleeptime, screen):\n",
    "    for i in range(num_frames):\n",
    "        if i == 0:\n",
    "            draw_triangle(sidelen, color)\n",
    "        if i == num_frames/4:\n",
    "            update_position(100, 0)\n",
    "            draw_triangle(sidelen, color)\n",
    "        if i == num_frames/2:\n",
    "            update_position(100, 0)\n",
    "            draw_triangle(sidelen, color)\n",
    "        if i == 3*num_frames/4:\n",
    "            update_position(100, 0)\n",
    "            draw_triangle(sidelen, color)\n",
    "        screen.update()\n",
    "        time.sleep(sleeptime)\n",
    "    clear()\n",
    "    "
   ]
  },
  {
   "cell_type": "code",
   "execution_count": 24,
   "id": "81b1fb8b",
   "metadata": {},
   "outputs": [],
   "source": [
    "COLOR = \"light coral\"\n",
    "SIDELEN = 70 #the side length of the triangle\n",
    "SLEEPTIME = 0.05 #the time in between each frame\n",
    "NUMFRAMES = 100 #the number of frames in the animation\n",
    "NUMREPEATS = 4 #the number of times the animation repeats\n",
    "SCREENWIDTH = 800 #the height and width of the screen\n",
    "SCREENHEIGHT = 800 #the height and width of the screen\n",
    "START_X = 0 # the starting xcoordinate of the drawing\n",
    "START_Y = 0 # the starting ycoordinate of the drawing\n",
    "\n",
    "reset()\n",
    "screen = Screen()\n",
    "screen.setup(SCREENWIDTH, SCREENHEIGHT)\n",
    "for i in range(NUMREPEATS):\n",
    "        with no_delay():\n",
    "            setup(START_X, START_Y)\n",
    "            draw_animation_0(NUMFRAMES, SIDELEN, COLOR, SLEEPTIME, screen)\n"
   ]
  },
  {
   "cell_type": "markdown",
   "id": "14fee73b",
   "metadata": {},
   "source": [
    "##### Questions\n",
    "\n",
    "0. What type of animation is this [Translate, Rotate, Scale, Frame-Based]?\n",
    "0. Look inside the cell that calls the `draw_animation_0()` function (the last cell). How many times is the for-loop running, and how did you find this number?\n",
    "0. Notice on line 15 of the second cell that there’s a timer set for `sleeptime` seconds that is being repeated for `num_frame` times. Calculate how long the animation lasts, using these two variables.\n",
    "0. Frames Per Second (FPS) is a rate we care about in the field of animation. You can calculate this rate by dividing the total number of frames over the total length of the animation. Calculate the FPS of this animation.\n",
    "0. Look inside the `draw_animation_0()` function. How many times is the for-loop here running, and how did you find this number? What is the difference between `NUMREPEATS` and `NUMFRAMES`?\n",
    "0. You will see that there are four conditionals inside the for-loop of `draw_animation_0()`. Calculate what the numbers in the conditionals are equivalent to: `num_frames/4`, `num_frames/2`, `3*num_frames/4`, `num_frames`.\n",
    "0. There are four if-statements, but only three triangles drawn on the screen. What happened to the fourth triangle?\n",
    "0. Change the last if-statement so that the animation is able to draw and animate all four triangles."
   ]
  },
  {
   "cell_type": "markdown",
   "id": "1810884e",
   "metadata": {},
   "source": [
    "##### Solutions\n",
    "\n",
    "0. Frame-based\n",
    "0. 4 - The `NUMREPEATS` setting in the last cell determines how many times the animation will run.\n",
    "0. 0.05 seconds x 100 frames = 5 seconds of animation\n",
    "0. 5 seconds of animation made up of 100 frames. 5/1 = 100/x ; 5x = 100 ; x = 100/5 ; x = 20 fps\n",
    "0. 100 - The `NUMFRAMES` setting in the last cell determines how many times the animation loop will run, or how many frames are in the animation\n",
    "0. `num_frames/4` = 25 ; `num_frames/2` = 50 ; `3*num_frames/4` = 75 ; `num_frames` = 100.\n",
    "0. Since a conditional only runs if condition is True and our conditions use the strictly equals operator (`==`), there are only 3 frames (when `i`= 25, `i`= 50, and `i`= 75) that draw new things on the screen. `i` will never equal 100 because our loop ends at `i` = 99.  \n",
    "0. Change the last if-statement so that the animation is able to draw and animate all four triangles."
   ]
  },
  {
   "cell_type": "markdown",
   "id": "f607033a",
   "metadata": {},
   "source": [
    "#### Animation 1\n",
    "\n",
    "💻 Run the cells below display Animation 1 and then discuss the questions below in your group."
   ]
  },
  {
   "cell_type": "code",
   "execution_count": 1,
   "id": "5001e973",
   "metadata": {},
   "outputs": [],
   "source": [
    "from turtle import Screen, clear\n",
    "from parts import customized_circle\n",
    "from helpers import setup, no_delay\n",
    "import time"
   ]
  },
  {
   "cell_type": "code",
   "execution_count": 4,
   "id": "2a322ba1",
   "metadata": {},
   "outputs": [],
   "source": [
    "def draw_animation_1(num_frames, radius, speedfactor, color, sleeptime, screen):\n",
    "    for i in range(num_frames//2):\n",
    "        new_size = radius + i*speedfactor\n",
    "        customized_circle(new_size, color)\n",
    "        screen.update()\n",
    "        time.sleep(sleeptime)\n",
    "        clear()\n",
    "\n",
    "    max_size = radius + num_frames//2*speedfactor\n",
    "    print(max_size)\n",
    "\n",
    "    for j in range(num_frames//2):\n",
    "        new_size = max_size - j*speedfactor\n",
    "        customized_circle(new_size, color)\n",
    "        screen.update()\n",
    "        time.sleep(sleeptime)\n",
    "        clear()"
   ]
  },
  {
   "cell_type": "code",
   "execution_count": 5,
   "id": "5b10812e",
   "metadata": {},
   "outputs": [
    {
     "name": "stdout",
     "output_type": "stream",
     "text": [
      "300\n",
      "300\n",
      "300\n",
      "300\n"
     ]
    }
   ],
   "source": [
    "COLOR = \"light coral\"\n",
    "SPEEDFACTOR = 5 #the factor that affects the speed of scale.py\n",
    "RADIUS = 50 #the radius of the circle used in scale.py\n",
    "SLEEPTIME = 0.05 #the time in between each frame\n",
    "NUMFRAMES = 100 #the number of frames in the animation\n",
    "NUMREPEATS = 4 #the number of times the animation repeats\n",
    "SCREENWIDTH = 800 #the height and width of the screen\n",
    "SCREENHEIGHT = 800 #the height and width of the screen\n",
    "START_X = 0 # the starting xcoordinate of the drawing\n",
    "START_Y = -300 # the starting ycoordinate of the drawing\n",
    "\n",
    "screen = Screen()\n",
    "screen.setup(SCREENWIDTH, SCREENHEIGHT)\n",
    "for i in range(NUMREPEATS):\n",
    "        setup(START_X, START_Y)\n",
    "        with no_delay():\n",
    "            draw_animation_1(NUMFRAMES, RADIUS, SPEEDFACTOR, COLOR, SLEEPTIME, screen)\n",
    "        "
   ]
  },
  {
   "cell_type": "markdown",
   "id": "8c7dcfce",
   "metadata": {},
   "source": [
    "##### Questions\n",
    "\n",
    "\n",
    "0. What type of animation is this [Translate, Rotate, Scale, Frame-Based]?\n",
    "0. Let’s change some settings! Currently, the circle does not fit on the screen when it gets animated. Change `START_X` and/or `START_Y` so that the animated circle is able to fit. While you’re at it, let’s also change `COLOR`.\n",
    "0. You’ll notice that we used two for-loops in this example. For the first for-loop, trace through the code and fill out a table that shows the values of `i` and `new_size` at each iteration of the loop.\n",
    "0. Calculate `max_size`.\n",
    "0. For the second for-loop, trace through the code and fill out a table that shows the values of `i` and `new_size` at each iteration of the loop.\n",
    "0. Change the code so that the animation only grows half as big (aka the `max_size` is half as large). (HINT: you only need to change one setting.)\n"
   ]
  },
  {
   "cell_type": "markdown",
   "id": "85c4b920",
   "metadata": {},
   "source": [
    "##### Solutions\n",
    "\n",
    "0. Scale\n",
    "0. Change the `START_Y` setting\n",
    "0. `i` starts at 0 and `new_size` starts at 50. When `i` is 25, `new_size` will be 175. When `i` is 49 (the last loop), `new_size` will be 295. \n",
    "0. 300\n",
    "0. `i` starts at 0 and `new_size` starts at `300`. When `i` is 25, `new_size` will be 175. When `i` is 49 (the last loop), `new_size` will be 55.\n",
    "0. Change the `SPEEDFACTOR` setting. Since there is a fixed base size `RADIUS` you will need to decrease the `SPEEDFACTOR` by more than half (to 2) in order to get the `max_size` to be 150. 150 = 50 + 100//2*speedfactor ; 150 = 50 + 50*speedfactor ; 100 = 50*speedfactor ; 100/50 = speedfactor ; speedfactor = 2\n"
   ]
  },
  {
   "cell_type": "markdown",
   "id": "462dad45",
   "metadata": {},
   "source": [
    "#### Animation 2\n",
    "\n",
    "💻 Run the cells below display Animation 2 and then discuss the questions below in your group."
   ]
  },
  {
   "cell_type": "code",
   "execution_count": 14,
   "id": "6a49a9c9",
   "metadata": {},
   "outputs": [],
   "source": [
    "from turtle import Screen, clear, forward, penup, pendown, color, begin_fill, end_fill, right\n",
    "from parts import draw_triangle\n",
    "from helpers import setup, no_delay\n",
    "import time"
   ]
  },
  {
   "cell_type": "code",
   "execution_count": 18,
   "id": "36ef84f4",
   "metadata": {},
   "outputs": [],
   "source": [
    "def draw_square(sidelen, square_color):\n",
    "    color(square_color)\n",
    "    begin_fill()\n",
    "    for i in range(4):\n",
    "        forward(sidelen)\n",
    "        right(90)\n",
    "    end_fill()"
   ]
  },
  {
   "cell_type": "code",
   "execution_count": 19,
   "id": "a5dd622b",
   "metadata": {},
   "outputs": [],
   "source": [
    "def draw_animation_2(num_frames, sidelen, color, sleeptime, screen):\n",
    "    for i in range(num_frames):\n",
    "        if i < num_frames // 2:\n",
    "            penup()\n",
    "            forward(5)\n",
    "            pendown()\n",
    "        if i > num_frames // 2:\n",
    "            penup()\n",
    "            forward(-5)\n",
    "            pendown()\n",
    "        draw_square(sidelen, color)\n",
    "        screen.update()\n",
    "        time.sleep(sleeptime)\n",
    "        clear()"
   ]
  },
  {
   "cell_type": "code",
   "execution_count": 20,
   "id": "7b47ef15",
   "metadata": {},
   "outputs": [],
   "source": [
    "COLOR = \"light coral\"\n",
    "SIDELEN = 70 #the side length of the triangle\n",
    "SLEEPTIME = 0.05 #the time in between each frame\n",
    "NUMFRAMES = 100 #the number of frames in the animation\n",
    "NUMREPEATS = 4 #the number of times the animation repeats\n",
    "SCREENWIDTH = 800 #the height and width of the screen\n",
    "SCREENHEIGHT = 800 #the height and width of the screen\n",
    "START_X = 0 # the starting xcoordinate of the drawing\n",
    "START_Y = 0 # the starting ycoordinate of the drawing\n",
    "\n",
    "screen = Screen()\n",
    "screen.setup(SCREENWIDTH, SCREENHEIGHT)\n",
    "for i in range(NUMREPEATS):\n",
    "    setup(START_X, START_Y)\n",
    "    with no_delay():\n",
    "        draw_animation_2(NUMFRAMES, SIDELEN, COLOR, SLEEPTIME, screen)\n",
    "    "
   ]
  },
  {
   "cell_type": "markdown",
   "id": "80315d75",
   "metadata": {},
   "source": [
    "##### Questions\n",
    "\n",
    "0. What type of animation is this [Translate, Rotate, Scale, Frame-Based]?\n",
    "0. What does the `clear()` function do in line 12 of the second cell? What happens if you remove `clear()`?\n",
    "0. Change the code so that the animation moves five times as far. (HINT: you will need to change two lines of code in `draw_animation_2()`)\n",
    "0. What if you wanted to draw an animating square instead of a triangle? Write a new helper function in `parts.py` called `draw_square()` that takes two parameters: `side_len` and `color_name`. Then, change `draw_animation_2()` so that it draws a square instead of a triangle."
   ]
  },
  {
   "cell_type": "markdown",
   "id": "ee72d72c",
   "metadata": {},
   "source": [
    "##### Solutions\n",
    "\n",
    "0. Translation\n",
    "0. `clear()` clears the screen between each frame of the animation, removing the triangle drawn in the previous frame. Removing `clear()` will keep the triangles from all 100, like stacking each frame.\n",
    "0. Change the value passed to the `forward()` function on line 5 to 10 and the `forward()` function on line 9 to -10.\n",
    "0. See code above"
   ]
  },
  {
   "cell_type": "markdown",
   "id": "81951bcf",
   "metadata": {},
   "source": [
    "#### Animation 3\n",
    "\n",
    "💻 Run the cells below display Animation 3 and then discuss the questions below in your group."
   ]
  },
  {
   "cell_type": "code",
   "execution_count": null,
   "id": "2546d01a",
   "metadata": {},
   "outputs": [],
   "source": [
    "from turtle import Screen, clear, right\n",
    "from parts import draw_triangle\n",
    "from helpers import setup, no_delay\n",
    "import time"
   ]
  },
  {
   "cell_type": "code",
   "execution_count": 21,
   "id": "10dedb14",
   "metadata": {},
   "outputs": [],
   "source": [
    "def draw_animation_3(num_frames, sidelen, color, sleeptime, screen):\n",
    "    for i in range(num_frames):\n",
    "        if i < num_frames//3:\n",
    "            right(-1)\n",
    "            draw_triangle(sidelen, color)\n",
    "        if i > num_frames//3 and i < 2*num_frames//3:\n",
    "            right(-5)\n",
    "            draw_triangle(sidelen,color)\n",
    "        if i > 2*num_frames//3:\n",
    "            right(-i)\n",
    "            draw_triangle(sidelen, color)\n",
    "        screen.update()\n",
    "        time.sleep(sleeptime)\n",
    "        clear()\n",
    "        "
   ]
  },
  {
   "cell_type": "code",
   "execution_count": 22,
   "id": "b637b026",
   "metadata": {},
   "outputs": [],
   "source": [
    "COLOR = \"light coral\"\n",
    "SIDELEN = 70 #the side length of the triangle\n",
    "SLEEPTIME = 0.05 #the time in between each frame\n",
    "NUMFRAMES = 100 #the number of frames in the animation\n",
    "NUMREPEATS = 4 #the number of times the animation repeats\n",
    "SCREENWIDTH = 800 #the height and width of the screen\n",
    "SCREENHEIGHT = 800 #the height and width of the screen\n",
    "START_X = 0 # the starting xcoordinate of the drawing\n",
    "START_Y = 0 # the starting ycoordinate of the drawing\n",
    "\n",
    "screen = Screen()\n",
    "screen.setup(SCREENWIDTH, SCREENHEIGHT)\n",
    "for i in range(NUMREPEATS):\n",
    "    setup(START_X, START_Y)\n",
    "    with no_delay():\n",
    "        draw_animation_3(NUMFRAMES, SIDELEN, COLOR, SLEEPTIME, screen)"
   ]
  },
  {
   "cell_type": "markdown",
   "id": "b33f25f8",
   "metadata": {},
   "source": [
    "##### Questions\n",
    "\n",
    "0. What type of animation is this [Translate, Rotate, Scale, Frame-Based]?\n",
    "0. This animation involves three if-conditional branches, and each branch causes a different speed! Why is the second branch faster than the first branch? Why is the third branch faster than the second branch?\n",
    "0. Change the code so that the animation turns in the opposite direction for all three conditional branches."
   ]
  },
  {
   "cell_type": "markdown",
   "id": "a90c0397",
   "metadata": {},
   "source": [
    "##### Solutions\n",
    "\n",
    "0. Rotation\n",
    "0. The value passed to the `right()` function in the second branch is larger than the value passed to the `right()` function in the first branch. The value passed to the `right()` function in the final branch depends on `i`, so it will rotate faster as the loop count increases.\n",
    "0. Make the values passed to the `right()` function in all three branches negative."
   ]
  },
  {
   "cell_type": "markdown",
   "id": "8e62536d",
   "metadata": {},
   "source": [
    "## Example project\n",
    "\n",
    "Now that you've got a sense of how to make the different types of\n",
    "animations, we can dissect an example project! The project\n",
    "below uses the code to draw a flower from the quiz a few days ago.\n",
    "\n",
    "💻 Run the code and then answer the question that follow:"
   ]
  },
  {
   "cell_type": "code",
   "execution_count": 47,
   "id": "2f5599a4",
   "metadata": {},
   "outputs": [],
   "source": [
    "from turtle import Screen, clear, reset\n",
    "from parts import flower\n",
    "from helpers import setup\n",
    "import time"
   ]
  },
  {
   "cell_type": "code",
   "execution_count": 52,
   "id": "cdb8071d",
   "metadata": {},
   "outputs": [],
   "source": [
    "def draw_animation_example_project(num_frames, color, size, sleeptime, screen):\n",
    "    for i in range(int(num_frames/2)):\n",
    "        petals = i\n",
    "        rotation = i * (360/(num_frames/2))\n",
    "        flower(size, petals, color, rotation)\n",
    "        screen.update()\n",
    "        time.sleep(sleeptime)\n",
    "        clear()\n",
    "        \n",
    "    max_petals = int(num_frames/2)\n",
    "    for j in range(int(num_frames/2)):\n",
    "        petals = max_petals - j\n",
    "        rotation = j * (360/(num_frames/2))\n",
    "        flower(size, petals, color, rotation)\n",
    "        screen.update()\n",
    "        time.sleep(sleeptime)\n",
    "        clear()"
   ]
  },
  {
   "cell_type": "code",
   "execution_count": 55,
   "id": "d9c35e29",
   "metadata": {},
   "outputs": [
    {
     "name": "stdout",
     "output_type": "stream",
     "text": [
      "8\n"
     ]
    }
   ],
   "source": [
    "COLOR = \"purple4\"\n",
    "SIZE = 50 #the radius of the circle used in scale.py\n",
    "SLEEPTIME = 0.01 #the time in between each frame\n",
    "NUMFRAMES = 100 #the number of frames in the animation\n",
    "NUMREPEATS = 4 #the number of times the animation repeats\n",
    "SCREENWIDTH = 800 #the height and width of the screen\n",
    "SCREENHEIGHT = 800 #the height and width of the screen\n",
    "START_X = 0 # the starting xcoordinate of the drawing\n",
    "START_Y = 0 # the starting ycoordinate of the drawing\n",
    "\n",
    "reset()\n",
    "screen = Screen()\n",
    "screen.setup(SCREENWIDTH,SCREENHEIGHT)\n",
    "test = input()\n",
    "for i in range(NUMREPEATS):\n",
    "    setup(START_X,START_Y)\n",
    "    with no_delay():\n",
    "        draw_animation_example_project(NUMFRAMES, COLOR,SIZE, SLEEPTIME, screen)"
   ]
  },
  {
   "cell_type": "code",
   "execution_count": 54,
   "id": "41f259b9",
   "metadata": {},
   "outputs": [],
   "source": [
    "reset()\n",
    "with no_delay():\n",
    "    flower(50, 5, \"red\", 0)"
   ]
  },
  {
   "cell_type": "markdown",
   "id": "7b0a9985",
   "metadata": {},
   "source": [
    "### Questions\n",
    "0. This animation uses both a frame-based animation and a rotation animation. Just watching the animation, how is the image rotating and what is changing with each frame?\n",
    "0. Now looking at the code, what is causing the rotation? What had to change about the original flower code to generate this?\n",
    "0. Also looking at the code, what is causing the frame-based animation?\n",
    "0. The rotation of the flower looks a little choppy (there are percievable jumps between frames). How can you edit the code to reduce the choppy-ness while keeping the number of petals and speed of rotation?"
   ]
  },
  {
   "cell_type": "markdown",
   "id": "4ccabf17",
   "metadata": {},
   "source": [
    "### Solutions\n",
    "0. The the whole flower image is rotating counterclockwise. Each frame, another petal is added or rermoved from the flower.\n",
    "0. The rotation is caused by adding a rotational offset value to  `setheading()` in the flower function. This value is determiend by the `rotation` parameter.\n",
    "0. In the frame loops, the number of petals drawn on the flower depends on `i` so the nubmer of petals changes as the loop runs.\n",
    "0. See code below"
   ]
  },
  {
   "cell_type": "code",
   "execution_count": null,
   "id": "8dec64b6",
   "metadata": {},
   "outputs": [],
   "source": [
    "# SOLUTION TO Q3 ABOVE\n",
    "from turtle import Screen, clear, reset\n",
    "from parts import flower\n",
    "from helpers import setup\n",
    "import time"
   ]
  },
  {
   "cell_type": "code",
   "execution_count": null,
   "id": "245bc2bb",
   "metadata": {},
   "outputs": [],
   "source": [
    "def draw_animation_example_project_solutions(num_frames, color, size, sleeptime, screen):\n",
    "    petals = 0\n",
    "    for i in range(int(num_frames/2)):\n",
    "        if i % 4 == 0:\n",
    "            petals += 1\n",
    "        rotation = i * (360/(num_frames/2))\n",
    "        flower(size, petals, color, rotation)\n",
    "        screen.update()\n",
    "        time.sleep(sleeptime)\n",
    "        clear()\n",
    "        \n",
    "    for j in range(int(num_frames/2)):\n",
    "        if j % 4 == 0:\n",
    "            petals -= 1\n",
    "        rotation = j * (360/(num_frames/2))\n",
    "        flower(size, petals, color, rotation)\n",
    "        screen.update()\n",
    "        time.sleep(sleeptime)\n",
    "        clear()"
   ]
  },
  {
   "cell_type": "code",
   "execution_count": null,
   "id": "ac81f616",
   "metadata": {},
   "outputs": [],
   "source": [
    "COLOR = \"purple4\"\n",
    "SIZE = 50 #the radius of the circle used in scale.py\n",
    "SLEEPTIME = 0.00001 #the time in between each frame\n",
    "NUMFRAMES = 400 #the number of frames in the animation\n",
    "NUMREPEATS = 4 #the number of times the animation repeats\n",
    "SCREENWIDTH = 800 #the height and width of the screen\n",
    "SCREENHEIGHT = 800 #the height and width of the screen\n",
    "START_X = 0 # the starting xcoordinate of the drawing\n",
    "START_Y = 0 # the starting ycoordinate of the drawing\n",
    "\n",
    "reset()\n",
    "screen = Screen()\n",
    "screen.setup(SCREENWIDTH,SCREENHEIGHT)\n",
    "for i in range(NUMREPEATS):\n",
    "    setup(START_X,START_Y)\n",
    "    with no_delay():\n",
    "        draw_animation_example_project_solutions(NUMFRAMES, COLOR,SIZE, SLEEPTIME, screen)"
   ]
  },
  {
   "cell_type": "markdown",
   "id": "c1e25a8d",
   "metadata": {},
   "source": [
    "💻 If you finish early, work on changing or improving the flower animation in other ways!"
   ]
  },
  {
   "cell_type": "code",
   "execution_count": null,
   "id": "46e0ca8c",
   "metadata": {},
   "outputs": [],
   "source": []
  }
 ],
 "metadata": {
  "kernelspec": {
   "display_name": "Python 3 (ipykernel)",
   "language": "python",
   "name": "python3"
  },
  "language_info": {
   "codemirror_mode": {
    "name": "ipython",
    "version": 3
   },
   "file_extension": ".py",
   "mimetype": "text/x-python",
   "name": "python",
   "nbconvert_exporter": "python",
   "pygments_lexer": "ipython3",
   "version": "3.9.1"
  },
  "toc": {
   "base_numbering": 1,
   "nav_menu": {},
   "number_sections": true,
   "sideBar": true,
   "skip_h1_title": false,
   "title_cell": "Table of Contents",
   "title_sidebar": "Contents",
   "toc_cell": false,
   "toc_position": {},
   "toc_section_display": true,
   "toc_window_display": false
  },
  "varInspector": {
   "cols": {
    "lenName": 16,
    "lenType": 16,
    "lenVar": 40
   },
   "kernels_config": {
    "python": {
     "delete_cmd_postfix": "",
     "delete_cmd_prefix": "del ",
     "library": "var_list.py",
     "varRefreshCmd": "print(var_dic_list())"
    },
    "r": {
     "delete_cmd_postfix": ") ",
     "delete_cmd_prefix": "rm(",
     "library": "var_list.r",
     "varRefreshCmd": "cat(var_dic_list()) "
    }
   },
   "types_to_exclude": [
    "module",
    "function",
    "builtin_function_or_method",
    "instance",
    "_Feature"
   ],
   "window_display": false
  }
 },
 "nbformat": 4,
 "nbformat_minor": 5
}
